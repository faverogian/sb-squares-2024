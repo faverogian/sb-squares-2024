{
 "cells": [
  {
   "cell_type": "markdown",
   "metadata": {},
   "source": [
    "## Super Bowl Squares Board Assignment\n",
    "\n",
    "Gian Favero | February 2024"
   ]
  },
  {
   "cell_type": "code",
   "execution_count": 1,
   "metadata": {},
   "outputs": [
    {
     "name": "stdout",
     "output_type": "stream",
     "text": [
      "SB Squares 2024 Participants: \n",
      "1 Adrian Iannetta\n",
      "2 Brayden Amlin\n",
      "3 Noah Scholl\n",
      "4 Andrew Ogley\n",
      "5 Steven Caro\n",
      "6 Stevie Hill\n",
      "7 Matthew Ammoscato\n",
      "8 Gian Favero\n",
      "9 Thomas Byrne\n",
      "10 Robert McVinnie\n"
     ]
    }
   ],
   "source": [
    "participants = [\n",
    "    \"Brayden Amlin\",\n",
    "    \"Matthew Ammoscato\",\n",
    "    \"Thomas Byrne\",\n",
    "    \"Steven Caro\",\n",
    "    \"Gian Favero\",\n",
    "    \"Stevie Hill\",\n",
    "    \"Adrian Iannetta\",\n",
    "    \"Robert McVinnie\",\n",
    "    \"Andrew Ogley\",\n",
    "    \"Noah Scholl\",\n",
    "]\n",
    "\n",
    "# Shuffle the list of participants\n",
    "import random\n",
    "random.seed(2024)\n",
    "random.shuffle(participants)\n",
    "\n",
    "print(\"SB Squares 2024 Participants: \")\n",
    "for i, participant in enumerate(participants):\n",
    "    print(i+1, participant)"
   ]
  },
  {
   "cell_type": "code",
   "execution_count": 2,
   "metadata": {},
   "outputs": [
    {
     "name": "stdout",
     "output_type": "stream",
     "text": [
      "Number permutations:  [(0, 4), (7, 1), (9, 9), (3, 8), (6, 9), (3, 4), (8, 1), (5, 5), (5, 4), (0, 1), (5, 3), (0, 0), (9, 4), (8, 0), (8, 4), (0, 7), (6, 2), (4, 4), (0, 6), (9, 5), (4, 1), (1, 2), (3, 1), (9, 7), (4, 8), (0, 5), (9, 1), (4, 5), (2, 1), (3, 9), (1, 3), (6, 4), (0, 9), (8, 8), (3, 2), (7, 2), (5, 1), (6, 8), (8, 7), (8, 9), (5, 7), (9, 2), (6, 0), (3, 6), (1, 8), (0, 2), (8, 5), (5, 2), (0, 3), (7, 8), (1, 6), (6, 1), (1, 5), (4, 0), (6, 3), (8, 3), (7, 9), (2, 3), (1, 4), (5, 6), (2, 5), (2, 4), (2, 7), (4, 6), (1, 9), (1, 7), (6, 6), (9, 3), (4, 9), (0, 8), (7, 7), (9, 6), (9, 8), (2, 0), (6, 5), (2, 9), (1, 0), (7, 3), (4, 7), (7, 6), (4, 3), (3, 0), (8, 6), (7, 4), (5, 9), (5, 0), (7, 0), (9, 0), (3, 5), (7, 5), (3, 7), (1, 1), (5, 8), (2, 2), (2, 8), (4, 2), (8, 2), (3, 3), (2, 6), (6, 7)]\n"
     ]
    }
   ],
   "source": [
    "import itertools\n",
    "import numpy as np\n",
    "\n",
    "# Make array of all possible two number permutations between 0 and 9 (inclusive)\n",
    "digits = [0, 1, 2, 3, 4, 5, 6, 7, 8, 9]\n",
    "permutations = list(itertools.permutations(digits, 2))\n",
    "for i in range(10):\n",
    "    permutations.append((i, i))\n",
    "\n",
    "# Shuffle the list of permutations\n",
    "random.seed(2024)\n",
    "random.shuffle(permutations)\n",
    "print(\"Number permutations: \", permutations)"
   ]
  },
  {
   "cell_type": "code",
   "execution_count": 3,
   "metadata": {},
   "outputs": [
    {
     "name": "stdout",
     "output_type": "stream",
     "text": [
      "Adrian Iannetta [(7, 2), (9, 5), (9, 1), (4, 4), (7, 3), (4, 8), (7, 7), (1, 4), (4, 2), (8, 4)]\n",
      "Brayden Amlin [(0, 2), (0, 5), (5, 8), (7, 8), (2, 0), (1, 0), (4, 7), (3, 7), (5, 2), (5, 1)]\n",
      "Noah Scholl [(9, 9), (1, 9), (6, 2), (5, 7), (9, 2), (5, 9), (7, 5), (1, 1), (8, 9), (3, 0)]\n",
      "Andrew Ogley [(6, 0), (5, 6), (9, 7), (8, 6), (6, 3), (3, 3), (2, 4), (9, 3), (4, 6), (0, 9)]\n",
      "Steven Caro [(5, 3), (7, 9), (4, 0), (6, 6), (7, 6), (4, 5), (8, 8), (9, 0), (2, 3), (3, 9)]\n",
      "Stevie Hill [(8, 3), (7, 1), (6, 1), (2, 8), (7, 4), (0, 7), (5, 5), (7, 0), (6, 5), (0, 1)]\n",
      "Matthew Ammoscato [(4, 1), (3, 6), (3, 8), (6, 8), (1, 5), (6, 7), (8, 0), (8, 7), (6, 4), (2, 2)]\n",
      "Gian Favero [(5, 4), (2, 9), (2, 7), (1, 7), (3, 5), (3, 2), (2, 5), (0, 3), (1, 8), (5, 0)]\n",
      "Thomas Byrne [(1, 2), (9, 4), (9, 6), (8, 2), (6, 9), (0, 6), (0, 0), (3, 4), (8, 1), (2, 1)]\n",
      "Robert McVinnie [(3, 1), (2, 6), (0, 8), (4, 9), (8, 5), (1, 3), (4, 3), (1, 6), (0, 4), (9, 8)]\n"
     ]
    }
   ],
   "source": [
    "# Give each participant ten random numbers between 0 and 99\n",
    "np.random.seed(2024)\n",
    "indice_list = np.arange(100)\n",
    "participant_squares = {}\n",
    "for participant in participants:\n",
    "    indices = np.random.choice(indice_list, 10, replace=False)\n",
    "    # Remove the indices from the list so that they can't be chosen again\n",
    "    indice_list = np.setdiff1d(indice_list, indices)\n",
    "    squares = [permutations[i] for i in indices]\n",
    "    participant_squares[participant] = squares\n",
    "\n",
    "# Print out the number permutations for each participant\n",
    "for participant, squares in participant_squares.items():\n",
    "    print(participant, squares)"
   ]
  },
  {
   "cell_type": "code",
   "execution_count": 4,
   "metadata": {},
   "outputs": [],
   "source": [
    "import numpy as np\n",
    "\n",
    "# Make the grid\n",
    "grid = np.zeros((10, 10), dtype=object)\n",
    "\n",
    "# Fill the grid\n",
    "for participant, squares in participant_squares.items():\n",
    "    participant = participant.split()\n",
    "    for square in squares:\n",
    "        grid[square[0], square[1]] = f'{participant[0][0]}{participant[1][0]}'\n",
    "\n",
    "# Save grid to a .csv file\n",
    "np.savetxt(\"SB_Squares_2024.csv\", grid, fmt=\"%s\", delimiter=\",\")"
   ]
  }
 ],
 "metadata": {
  "kernelspec": {
   "display_name": "Python 3",
   "language": "python",
   "name": "python3"
  },
  "language_info": {
   "codemirror_mode": {
    "name": "ipython",
    "version": 3
   },
   "file_extension": ".py",
   "mimetype": "text/x-python",
   "name": "python",
   "nbconvert_exporter": "python",
   "pygments_lexer": "ipython3",
   "version": "3.9.13"
  }
 },
 "nbformat": 4,
 "nbformat_minor": 2
}
