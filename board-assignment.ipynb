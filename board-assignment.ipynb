{
 "cells": [
  {
   "cell_type": "markdown",
   "metadata": {},
   "source": [
    "## Super Bowl Squares Board Assignment\n",
    "\n",
    "Gian Favero | February 2024"
   ]
  },
  {
   "cell_type": "code",
   "execution_count": 109,
   "metadata": {},
   "outputs": [
    {
     "name": "stdout",
     "output_type": "stream",
     "text": [
      "SB Squares 2024 Participants: \n",
      "1 Brayden Amlin\n",
      "2 Gian Favero\n",
      "3 Steven Caro\n",
      "4 Louis Borrelli\n",
      "5 Noah Scholl\n",
      "6 Robert McVinnie\n",
      "7 Thomas Byrne\n",
      "8 Andrew Ogley\n",
      "9 Adrian Ianetta\n",
      "10 Matthew Ammoscato\n"
     ]
    }
   ],
   "source": [
    "participants = [\n",
    "    \"Gian Favero\",\n",
    "    \"Thomas Byrne\",\n",
    "    \"Adrian Iannetta\",\n",
    "    \"Noah Scholl\",\n",
    "    \"Andrew Ogley\",\n",
    "    \"Robert McVinnie\",\n",
    "    \"Brayden Amlin\",\n",
    "    \"Steven Caro\"\n",
    "    \"Matthew Ammoscato\",\n",
    "    \"Louis Borrelli\",\n",
    "]\n",
    "\n",
    "# Shuffle the list of participants\n",
    "import random\n",
    "random.seed(2024)\n",
    "random.shuffle(participants)\n",
    "\n",
    "print(\"SB Squares 2024 Participants: \")\n",
    "for i, participant in enumerate(participants):\n",
    "    print(i+1, participant)"
   ]
  },
  {
   "cell_type": "code",
   "execution_count": 118,
   "metadata": {},
   "outputs": [
    {
     "name": "stdout",
     "output_type": "stream",
     "text": [
      "Number permutations:  [(0, 4), (7, 1), (9, 9), (3, 8), (6, 9), (3, 4), (8, 1), (5, 5), (5, 4), (0, 1), (5, 3), (0, 0), (9, 4), (8, 0), (8, 4), (0, 7), (6, 2), (4, 4), (0, 6), (9, 5), (4, 1), (1, 2), (3, 1), (9, 7), (4, 8), (0, 5), (9, 1), (4, 5), (2, 1), (3, 9), (1, 3), (6, 4), (0, 9), (8, 8), (3, 2), (7, 2), (5, 1), (6, 8), (8, 7), (8, 9), (5, 7), (9, 2), (6, 0), (3, 6), (1, 8), (0, 2), (8, 5), (5, 2), (0, 3), (7, 8), (1, 6), (6, 1), (1, 5), (4, 0), (6, 3), (8, 3), (7, 9), (2, 3), (1, 4), (5, 6), (2, 5), (2, 4), (2, 7), (4, 6), (1, 9), (1, 7), (6, 6), (9, 3), (4, 9), (0, 8), (7, 7), (9, 6), (9, 8), (2, 0), (6, 5), (2, 9), (1, 0), (7, 3), (4, 7), (7, 6), (4, 3), (3, 0), (8, 6), (7, 4), (5, 9), (5, 0), (7, 0), (9, 0), (3, 5), (7, 5), (3, 7), (1, 1), (5, 8), (2, 2), (2, 8), (4, 2), (8, 2), (3, 3), (2, 6), (6, 7)]\n"
     ]
    }
   ],
   "source": [
    "import itertools\n",
    "import numpy as np\n",
    "\n",
    "# Make array of all possible two number permutations between 0 and 9 (inclusive)\n",
    "digits = [0, 1, 2, 3, 4, 5, 6, 7, 8, 9]\n",
    "permutations = list(itertools.permutations(digits, 2))\n",
    "for i in range(10):\n",
    "    permutations.append((i, i))\n",
    "\n",
    "# Shuffle the list of permutations\n",
    "random.seed(2024)\n",
    "random.shuffle(permutations)\n",
    "print(\"Number permutations: \", permutations)"
   ]
  },
  {
   "cell_type": "code",
   "execution_count": 119,
   "metadata": {},
   "outputs": [
    {
     "name": "stdout",
     "output_type": "stream",
     "text": [
      "Brayden Amlin [(0, 4), (7, 1), (9, 9), (3, 8), (6, 9), (3, 4), (8, 1), (5, 5), (5, 4), (0, 1)]\n",
      "Gian Favero [(5, 3), (0, 0), (9, 4), (8, 0), (8, 4), (0, 7), (6, 2), (4, 4), (0, 6), (9, 5)]\n",
      "Steven Caro [(4, 1), (1, 2), (3, 1), (9, 7), (4, 8), (0, 5), (9, 1), (4, 5), (2, 1), (3, 9)]\n",
      "Louis Borrelli [(1, 3), (6, 4), (0, 9), (8, 8), (3, 2), (7, 2), (5, 1), (6, 8), (8, 7), (8, 9)]\n",
      "Noah Scholl [(5, 7), (9, 2), (6, 0), (3, 6), (1, 8), (0, 2), (8, 5), (5, 2), (0, 3), (7, 8)]\n",
      "Robert McVinnie [(1, 6), (6, 1), (1, 5), (4, 0), (6, 3), (8, 3), (7, 9), (2, 3), (1, 4), (5, 6)]\n",
      "Thomas Byrne [(2, 5), (2, 4), (2, 7), (4, 6), (1, 9), (1, 7), (6, 6), (9, 3), (4, 9), (0, 8)]\n",
      "Andrew Ogley [(7, 7), (9, 6), (9, 8), (2, 0), (6, 5), (2, 9), (1, 0), (7, 3), (4, 7), (7, 6)]\n",
      "Adrian Ianetta [(4, 3), (3, 0), (8, 6), (7, 4), (5, 9), (5, 0), (7, 0), (9, 0), (3, 5), (7, 5)]\n",
      "Matthew Ammoscato [(3, 7), (1, 1), (5, 8), (2, 2), (2, 8), (4, 2), (8, 2), (3, 3), (2, 6), (6, 7)]\n"
     ]
    }
   ],
   "source": [
    "# Give each participant ten number permutations\n",
    "participant_squares = {}\n",
    "for participant in participants:\n",
    "    participant_squares[participant] = permutations[:10]\n",
    "    permutations = permutations[10:]\n",
    "\n",
    "# Print out the number permutations for each participant\n",
    "for participant, squares in participant_squares.items():\n",
    "    print(participant, squares)"
   ]
  },
  {
   "cell_type": "code",
   "execution_count": 117,
   "metadata": {},
   "outputs": [
    {
     "name": "stdout",
     "output_type": "stream",
     "text": [
      "SB Squares 2024 Teams: \n",
      "1 Chiefs\n",
      "2 49ers\n"
     ]
    }
   ],
   "source": [
    "teams = [\"Chiefs\", \"49ers\"] \n",
    "\n",
    "# Shuffle the list of teams\n",
    "random.seed(2024)\n",
    "random.shuffle(teams)\n",
    "\n",
    "print(\"SB Squares 2024 Teams: \")\n",
    "for i, team in enumerate(teams):\n",
    "    print(i+1, team)"
   ]
  },
  {
   "cell_type": "code",
   "execution_count": 113,
   "metadata": {},
   "outputs": [],
   "source": [
    "import numpy as np\n",
    "\n",
    "# Make the grid\n",
    "grid = np.zeros((10, 10), dtype=object)\n",
    "\n",
    "# Fill the grid\n",
    "for participant, squares in participant_squares.items():\n",
    "    participant = participant.split()\n",
    "    for square in squares:\n",
    "        grid[square[0], square[1]] = f'{participant[0][0]}{participant[1][0]}'\n",
    "\n",
    "# Save grid to a .csv file\n",
    "np.savetxt(\"SB_Squares_2024.csv\", grid, fmt=\"%s\", delimiter=\",\")"
   ]
  }
 ],
 "metadata": {
  "kernelspec": {
   "display_name": "Python 3",
   "language": "python",
   "name": "python3"
  },
  "language_info": {
   "codemirror_mode": {
    "name": "ipython",
    "version": 3
   },
   "file_extension": ".py",
   "mimetype": "text/x-python",
   "name": "python",
   "nbconvert_exporter": "python",
   "pygments_lexer": "ipython3",
   "version": "3.9.13"
  }
 },
 "nbformat": 4,
 "nbformat_minor": 2
}
